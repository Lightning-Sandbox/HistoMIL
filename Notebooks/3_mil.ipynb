{
 "cells": [
  {
   "attachments": {},
   "cell_type": "markdown",
   "metadata": {},
   "source": [
    "# HistoMIL Multiple Instance Learning Notebook\n",
    "\n",
    "This Jupyter notebook demonstrates how to train a model using multiple instance learning (MIL) on histopathology whole-slide images using HistoMIL. The notebook is divided into three main sections: parameter definition, data preparation, and model definition and training.\n",
    "\n",
    "## Getting Started\n",
    "\n",
    "Before proceeding with this notebook, please make sure that you have followed the setup instructions provided in the project's README file. This includes creating a conda environment and installing the required dependencies."
   ]
  },
  {
   "cell_type": "code",
   "execution_count": null,
   "metadata": {},
   "outputs": [],
   "source": [
    "#--------------------------> base env setting\n",
    "# avoid pandas warning\n",
    "import pandas as pd\n",
    "pd.options.mode.chained_assignment = None  # default='warn'\n",
    "# avoid multiprocessing problem\n",
    "import torch\n",
    "import torch.nn as nn\n",
    "torch.multiprocessing.set_sharing_strategy('file_system')\n",
    "#--------------------------> logging setup\n",
    "import logging\n",
    "logging.basicConfig(\n",
    "    level=logging.INFO,\n",
    "    format='|%(asctime)s.%(msecs)03d| [%(levelname)s] %(message)s',\n",
    "    datefmt='%Y-%m-%d|%H:%M:%S',\n",
    "    handlers=[\n",
    "        logging.StreamHandler()\n",
    "    ]\n",
    ")"
   ]
  },
  {
   "attachments": {},
   "cell_type": "markdown",
   "metadata": {},
   "source": [
    "## Model Definition\n",
    "\n",
    "The second section of the notebook covers model definition for MIL. This includes defining the MIL model architecture using the parameters defined in the first section."
   ]
  },
  {
   "cell_type": "code",
   "execution_count": null,
   "metadata": {},
   "outputs": [],
   "source": [
    "#--------------------------> task setting\n",
    "task_name = \"example_mil\"\n",
    "#--------------------------> model setting\n",
    "\n",
    "from HistoMIL.MODEL.Image.MIL.TransMIL.paras import TransMILParas\n",
    "# for transmil\n",
    "model_para_transmil = TransMILParas()\n",
    "model_para_transmil.feature_size=512\n",
    "model_para_transmil.n_classes=2\n",
    "model_para_transmil.norm_layer=nn.LayerNorm\n",
    "# for dsmil\n",
    "from HistoMIL.MODEL.Image.MIL.DSMIL.paras import DSMILParas\n",
    "model_para_dsmil = DSMILParas()\n",
    "model_para_dsmil.feature_dim = 512 #resnet18\n",
    "model_para_dsmil.p_class = 2\n",
    "model_para_dsmil.b_class = 2\n",
    "model_para_dsmil.dropout_r = 0.5\n",
    "\n",
    "model_name = \"TransMIL\"  # or \"TransMIL\" or \"ABMIL\"\n",
    "\n",
    "model_para_settings = {\"TransMIL\":model_para_transmil,\n",
    "                       \"DSMIL\":model_para_dsmil} "
   ]
  },
  {
   "attachments": {},
   "cell_type": "markdown",
   "metadata": {},
   "source": [
    "## Parameter Definition\n",
    "\n",
    "The first section of the notebook defines the parameters used in the MIL training process. This includes the model architecture, loss function, optimizer, and learning rate scheduler. You can modify these parameters to customize the training process for your specific needs."
   ]
  },
  {
   "cell_type": "code",
   "execution_count": null,
   "metadata": {},
   "outputs": [],
   "source": [
    "#--------------------------> parameters\n",
    "from HistoMIL.EXP.paras.env import EnvParas\n",
    "gene2k_env = EnvParas()\n",
    "gene2k_env.exp_name = f\"{model_name}_{task_name}\"\n",
    "gene2k_env.project = \"gene2k_fast\" \n",
    "gene2k_env.entity = \"shipan_work\"\n",
    "#----------------> cohort\n",
    "gene2k_env.cohort_para.localcohort_name = \"BRCA\"\n",
    "gene2k_env.cohort_para.task_name = task_name\n",
    "gene2k_env.cohort_para.cohort_file = f\"/task_name.csv\"\n",
    "gene2k_env.cohort_para.pid_name = \"Patient_ID\"\n",
    "gene2k_env.cohort_para.targets = [task_name]\n",
    "gene2k_env.cohort_para.targets_idx = 0\n",
    "gene2k_env.cohort_para.label_dict = {\"low\":0,\"high\":1}\n",
    "#debug_env.cohort_para.update_localcohort = True\n",
    "#----------------> pre-processing\n",
    "#----------------> dataset\n",
    "gene2k_env.dataset_para.dataset_name = f\"BRCA_{task_name}\"\n",
    "gene2k_env.dataset_para.concepts = [\"slide\",\"patch\",\"feature\"]\n",
    "gene2k_env.dataset_para.split_ratio = [0.8,0.2]\n",
    "#----------------> model\n",
    "gene2k_env.trainer_para.model_name = model_name\n",
    "gene2k_env.trainer_para.model_para = model_para_settings[model_name]\n",
    "#----------------> trainer or analyzer\n",
    "gene2k_env.trainer_para.backbone_name = \"resnet18\"\n",
    "gene2k_env.trainer_para.additional_pl_paras.update({\"accumulate_grad_batches\":8})\n",
    "gene2k_env.trainer_para.label_format = \"int\"#\"one_hot\" \n",
    "#k_fold = None\n",
    "#--------------------------> init machine and person\n",
    "import pickle\n",
    "machine_cohort_loc = \"Path/to/BRCA_machine_config.pkl\"\n",
    "with open(machine_cohort_loc, \"rb\") as f:   # Unpickling\n",
    "    [data_locs,exp_locs,machine,user] = pickle.load(f)\n",
    "gene2k_env.data_locs = data_locs\n",
    "gene2k_env.exp_locs = exp_locs"
   ]
  },
  {
   "attachments": {},
   "cell_type": "markdown",
   "metadata": {},
   "source": [
    "## Model initialisation and Training\n",
    "\n",
    "The third and final section of the notebook covers model definition and training. This includes defining the MIL model using the parameters defined in the first section, and training the model using the dataloaders created in the second section.\n",
    "\n",
    "After training is complete, the notebook will also demonstrate how to evaluate the trained model on a validation set and make predictions on new whole-slide images."
   ]
  },
  {
   "cell_type": "code",
   "execution_count": null,
   "metadata": {},
   "outputs": [],
   "source": [
    "logging.info(\"setup experiment\")\n",
    "from HistoMIL.EXP.workspace.experiment import Experiment\n",
    "exp = Experiment(env_paras=gene2k_env)\n",
    "exp.setup_machine(machine=machine,user=user)\n",
    "logging.info(\"setup data\")\n",
    "exp.init_cohort()\n",
    "logging.info(\"setup trainer..\")\n",
    "exp.setup_experiment(main_data_source=\"slide\",\n",
    "                    need_train=True)\n",
    "\n",
    "exp.exp_worker.train()"
   ]
  }
 ],
 "metadata": {
  "kernelspec": {
   "display_name": "Histo",
   "language": "python",
   "name": "python3"
  },
  "language_info": {
   "name": "python",
   "version": "3.9.12"
  },
  "orig_nbformat": 4
 },
 "nbformat": 4,
 "nbformat_minor": 2
}
